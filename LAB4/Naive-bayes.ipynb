{
  "nbformat": 4,
  "nbformat_minor": 0,
  "metadata": {
    "colab": {
      "name": "Lab4_NaiveBayes.ipynb",
      "provenance": [],
      "collapsed_sections": []
    },
    "kernelspec": {
      "name": "python3",
      "display_name": "Python 3"
    },
    "language_info": {
      "name": "python"
    }
  },
  "cells": [
    {
      "cell_type": "code",
      "metadata": {
        "colab": {
          "base_uri": "https://localhost:8080/"
        },
        "id": "X6RFQ2Av3sJw",
        "outputId": "448b91b4-4c36-4e84-c7c3-f9423af94926"
      },
      "source": [
        "import pandas as pd\n",
        "from sklearn.model_selection import train_test_split\n",
        "from sklearn.naive_bayes import GaussianNB\n",
        "from sklearn import metrics\n",
        "\n",
        "df = pd.read_csv(\"diabetes.csv\")\n",
        "feature_col_names = ['num_preg', 'glucose_conc', 'diastolic_bp', 'thickness', 'insulin', 'bmi', 'diab_pred', 'age']\n",
        "predicted_class_names = ['diabetes']\n",
        "\n",
        "X = df[feature_col_names].values \n",
        "y = df[predicted_class_names].values\n",
        "\n",
        "print(df.head)\n",
        "xtrain,xtest,ytrain,ytest=train_test_split(X,y,test_size=0.40)\n",
        "\n",
        "print ('\\n the total number of Training Data :',ytrain.shape)\n",
        "print ('\\n the total number of Test Data :',ytest.shape)\n",
        "\n",
        "clf = GaussianNB().fit(xtrain,ytrain.ravel())\n",
        "predicted = clf.predict(xtest)\n",
        "predictTestData= clf.predict([[6,148,72,35,0,33.6,0.627,50]])\n",
        "\n",
        "print('\\n Confusion matrix')\n",
        "print(metrics.confusion_matrix(ytest,predicted))\n",
        "\n",
        "print('\\n Accuracy of the classifier is',metrics.accuracy_score(ytest,predicted))\n",
        "\n",
        "print('\\n The value of Precision', metrics.precision_score(ytest,predicted))\n",
        "\n",
        "print('\\n The value of Recall', metrics.recall_score(ytest,predicted))\n",
        "\n",
        "print(\"Predicted Value for individual Test Data:\", predictTestData)"
      ],
      "execution_count": 6,
      "outputs": [
        {
          "output_type": "stream",
          "text": [
            "<bound method NDFrame.head of      num_preg  glucose_conc  diastolic_bp  ...  diab_pred  age  diabetes\n",
            "0           6           148            72  ...      0.627   50         1\n",
            "1           1            85            66  ...      0.351   31         0\n",
            "2           8           183            64  ...      0.672   32         1\n",
            "3           1            89            66  ...      0.167   21         0\n",
            "4           0           137            40  ...      2.288   33         1\n",
            "..        ...           ...           ...  ...        ...  ...       ...\n",
            "140         3           128            78  ...      0.268   55         0\n",
            "141         5           106            82  ...      0.286   38         0\n",
            "142         2           108            52  ...      0.318   22         0\n",
            "143        10           108            66  ...      0.272   42         1\n",
            "144         4           154            62  ...      0.237   23         0\n",
            "\n",
            "[145 rows x 9 columns]>\n",
            "\n",
            " the total number of Training Data : (87, 1)\n",
            "\n",
            " the total number of Test Data : (58, 1)\n",
            "\n",
            " Confusion matrix\n",
            "[[32  7]\n",
            " [ 9 10]]\n",
            "\n",
            " Accuracy of the classifier is 0.7241379310344828\n",
            "\n",
            " The value of Precision 0.5882352941176471\n",
            "\n",
            " The value of Recall 0.5263157894736842\n",
            "Predicted Value for individual Test Data: [1]\n"
          ],
          "name": "stdout"
        }
      ]
    }
  ]
}
